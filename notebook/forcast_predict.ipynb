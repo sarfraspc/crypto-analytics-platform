{
 "cells": [
  {
   "cell_type": "code",
   "execution_count": 2,
   "id": "b766ff08",
   "metadata": {},
   "outputs": [],
   "source": [
    "import numpy as np\n",
    "import pandas as pd\n",
    "from pathlib import Path\n",
    "from modules.forecasting.data.preprocess_coin import CoinPreprocessor  \n",
    "from modules.forecasting.data.preprocess_panel import PanelPreprocessor  \n",
    "\n",
    "PROPHET_BASE_DIR = Path(r\"D:\\python_projects\\crypto-analytics-platform\\src\\modules\\forecasting\\models\\saved\\prophet\")\n",
    "SARIMAX_BASE_DIR = Path(r\"D:\\python_projects\\crypto-analytics-platform\\src\\modules\\forecasting\\models\\saved\\sarimax\")\n",
    "TFT_BASE_DIR = Path(r\"D:\\python_projects\\crypto-analytics-platform\\src\\modules\\forecasting\\models\\saved\\tft\")\n",
    "CNNLSTM_BASE_DIR = Path(r\"D:\\python_projects\\crypto-analytics-platform\\src\\modules\\forecasting\\models\\saved\\cnn-lstm\")\n",
    "\n",
    "SYMBOL = \"BTC\"  \n",
    "EXCHANGE = \"binance\"\n",
    "INTERVAL = \"1h\"\n",
    "FORECAST_STEPS = 168  "
   ]
  },
  {
   "cell_type": "code",
   "execution_count": 3,
   "id": "c10f8633",
   "metadata": {},
   "outputs": [
    {
     "name": "stdout",
     "output_type": "stream",
     "text": [
      "Loaded recent data shape: (1000, 25)\n",
      "                          symbol exchange interval      open      high  \\\n",
      "time                                                                     \n",
      "2025-09-25 00:00:00+00:00    BTC  binance       1h  0.916754  0.909538   \n",
      "2025-09-26 00:00:00+00:00    BTC  binance       1h  0.880851  0.883050   \n",
      "2025-09-27 00:00:00+00:00    BTC  binance       1h  0.886254  0.878462   \n",
      "2025-09-28 00:00:00+00:00    BTC  binance       1h  0.886191  0.899965   \n",
      "2025-09-29 00:00:00+00:00    BTC  binance       1h  0.907238  0.915490   \n",
      "\n",
      "                                low     close    volume   returns  close_lag1  \\\n",
      "time                                                                            \n",
      "2025-09-25 00:00:00+00:00  0.911378  0.880850  0.027618  0.575729   113307.00   \n",
      "2025-09-26 00:00:00+00:00  0.911279  0.886253  0.018429  0.646713   108994.49   \n",
      "2025-09-27 00:00:00+00:00  0.915106  0.886190  0.006935  0.636999   109643.46   \n",
      "2025-09-28 00:00:00+00:00  0.916188  0.907237  0.009618  0.674299   109635.85   \n",
      "2025-09-29 00:00:00+00:00  0.936606  0.920909  0.014499  0.660724   112163.95   \n",
      "\n",
      "                           ...         sma_21          ema_8         ema_20  \\\n",
      "time                       ...                                                \n",
      "2025-09-25 00:00:00+00:00  ...  113876.985714  112938.353529  113622.032424   \n",
      "2025-09-26 00:00:00+00:00  ...  113828.579524  112206.154967  113243.120764   \n",
      "2025-09-27 00:00:00+00:00  ...  113802.288095  111634.976086  112899.571168   \n",
      "2025-09-28 00:00:00+00:00  ...  113851.174286  111752.525844  112829.512009   \n",
      "2025-09-29 00:00:00+00:00  ...  113934.078095  112208.900101  112922.530865   \n",
      "\n",
      "                           volume_pct_change  volume_zscore_30  hour  \\\n",
      "time                                                                   \n",
      "2025-09-25 00:00:00+00:00           0.716445          1.660641     0   \n",
      "2025-09-26 00:00:00+00:00          -0.329145          0.278569     0   \n",
      "2025-09-27 00:00:00+00:00          -0.613720         -1.359827     0   \n",
      "2025-09-28 00:00:00+00:00           0.370888         -0.923269     0   \n",
      "2025-09-29 00:00:00+00:00           0.492146         -0.181493     0   \n",
      "\n",
      "                           dayofweek  month  is_month_start  \\\n",
      "time                                                          \n",
      "2025-09-25 00:00:00+00:00          3      9               0   \n",
      "2025-09-26 00:00:00+00:00          4      9               0   \n",
      "2025-09-27 00:00:00+00:00          5      9               0   \n",
      "2025-09-28 00:00:00+00:00          6      9               0   \n",
      "2025-09-29 00:00:00+00:00          0      9               0   \n",
      "\n",
      "                                               time  \n",
      "time                                                 \n",
      "2025-09-25 00:00:00+00:00 2025-09-25 00:00:00+00:00  \n",
      "2025-09-26 00:00:00+00:00 2025-09-26 00:00:00+00:00  \n",
      "2025-09-27 00:00:00+00:00 2025-09-27 00:00:00+00:00  \n",
      "2025-09-28 00:00:00+00:00 2025-09-28 00:00:00+00:00  \n",
      "2025-09-29 00:00:00+00:00 2025-09-29 00:00:00+00:00  \n",
      "\n",
      "[5 rows x 25 columns]\n"
     ]
    }
   ],
   "source": [
    "coin_pre = CoinPreprocessor() \n",
    "\n",
    "df_recent = coin_pre.load_features_series(SYMBOL, exchange=EXCHANGE, interval=INTERVAL)\n",
    "df_recent = df_recent.tail(1000).copy() \n",
    "\n",
    "if 'symbol' not in df_recent.columns:\n",
    "    df_recent['symbol'] = SYMBOL\n",
    "if 'time' not in df_recent.columns:\n",
    "    df_recent['time'] = df_recent.index\n",
    "\n",
    "print(f\"Loaded recent data shape: {df_recent.shape}\")\n",
    "print(df_recent.tail())"
   ]
  },
  {
   "cell_type": "code",
   "execution_count": null,
   "id": "57987080",
   "metadata": {},
   "outputs": [
    {
     "name": "stdout",
     "output_type": "stream",
     "text": [
      "Loaded Prophet model from D:\\python_projects\\crypto-analytics-platform\\src\\modules\\forecasting\\models\\saved\\prophet\\prophet_BTC.pkl\n",
      "Prophet Forecast:\n",
      "2025-09-29 01:00:00+00:00    103.822204\n",
      "2025-09-29 02:00:00+00:00    104.011632\n",
      "2025-09-29 03:00:00+00:00    104.133037\n",
      "2025-09-29 04:00:00+00:00    104.223861\n",
      "2025-09-29 05:00:00+00:00    104.307057\n",
      "2025-09-29 06:00:00+00:00    104.381360\n",
      "2025-09-29 07:00:00+00:00    104.442780\n",
      "2025-09-29 08:00:00+00:00    104.509809\n",
      "2025-09-29 09:00:00+00:00    104.622934\n",
      "2025-09-29 10:00:00+00:00    104.816946\n",
      "Freq: h, Name: yhat, dtype: float64\n",
      "2025-10-05 15:00:00+00:00    131.242650\n",
      "2025-10-05 16:00:00+00:00    131.477102\n",
      "2025-10-05 17:00:00+00:00    131.649442\n",
      "2025-10-05 18:00:00+00:00    131.738914\n",
      "2025-10-05 19:00:00+00:00    131.756426\n",
      "2025-10-05 20:00:00+00:00    131.759410\n",
      "2025-10-05 21:00:00+00:00    131.827618\n",
      "2025-10-05 22:00:00+00:00    132.012320\n",
      "2025-10-05 23:00:00+00:00    132.299316\n",
      "2025-10-06 00:00:00+00:00    132.618056\n",
      "Freq: h, Name: yhat, dtype: float64\n"
     ]
    },
    {
     "name": "stderr",
     "output_type": "stream",
     "text": [
      "c:\\Users\\sarfras\\anaconda3\\envs\\crypto\\lib\\site-packages\\prophet\\forecaster.py:1872: FutureWarning: 'H' is deprecated and will be removed in a future version, please use 'h' instead.\n",
      "  dates = pd.date_range(\n",
      "D:\\python_projects\\crypto-analytics-platform\\src\\modules\\forecasting\\models\\prophet.py:73: FutureWarning: 'H' is deprecated and will be removed in a future version. Please use 'h' instead of 'H'.\n",
      "  start_date = last_date + pd.to_timedelta(1, unit=freq)\n",
      "D:\\python_projects\\crypto-analytics-platform\\src\\modules\\forecasting\\models\\prophet.py:74: FutureWarning: 'H' is deprecated and will be removed in a future version, please use 'h' instead.\n",
      "  forecast_future.index = pd.date_range(\n",
      "C:\\Users\\sarfras\\AppData\\Local\\Temp\\ipykernel_19796\\4243810402.py:34: FutureWarning: 'H' is deprecated and will be removed in a future version, please use 'h' instead.\n",
      "  future_dates = pd.date_range(start=last_date + pd.Timedelta(hours=1), periods=FORECAST_STEPS, freq='H')\n"
     ]
    },
    {
     "data": {
      "image/png": "[encoded data removed]",
      "text/plain": [
       "<Figure size 1200x600 with 1 Axes>"
      ]
     },
     "metadata": {},
     "output_type": "display_data"
    }
   ],
   "source": [
    "from modules.forecasting.models.prophet import ProphetModel  \n",
    "\n",
    "promodel = ProphetModel(\n",
    "    symbol=SYMBOL,\n",
    "    model_dir=str(PROPHET_BASE_DIR),\n",
    "    changepoint_prior_scale=0.05,\n",
    "    seasonality_prior_scale=10.0,\n",
    "    holidays_prior_scale=10.0,\n",
    "    changepoint_range=0.8\n",
    ")\n",
    "\n",
    "promodel_path = PROPHET_BASE_DIR / f\"prophet_{SYMBOL}.pkl\"\n",
    "if promodel_path.exists():\n",
    "    promodel.load()\n",
    "    print(f\"Loaded Prophet model from {promodel_path}\")\n",
    "else:\n",
    "    print(\"No saved model found. Training a new one...\")\n",
    "    promodel.train(df_recent, target_col='close')\n",
    "    promodel.save()\n",
    "    print(f\"Trained and saved new Prophet model to {promodel_path}\")\n",
    "\n",
    "last_date = df_recent.index[-1]\n",
    "forecast = promodel.forecast(steps=FORECAST_STEPS, last_date=last_date, freq='H')\n",
    "\n",
    "print(\"Prophet Forecast:\")\n",
    "print(forecast.head(10))  \n",
    "print(forecast.tail(10)) \n",
    "\n",
    "import matplotlib.pyplot as plt\n",
    "plt.figure(figsize=(12, 6))\n",
    "plt.plot(df_recent.index[-100:], df_recent['close'].tail(100), label='Historical')\n",
    "future_dates = pd.date_range(start=last_date + pd.Timedelta(hours=1), periods=FORECAST_STEPS, freq='H')\n",
    "plt.plot(future_dates, forecast.values, label='Forecast', color='red')\n",
    "plt.legend()\n",
    "plt.title(f'Prophet Forecast for {SYMBOL}')\n",
    "plt.show()"
   ]
  },
  {
   "cell_type": "code",
   "execution_count": 6,
   "id": "0f71e458",
   "metadata": {},
   "outputs": [
    {
     "name": "stdout",
     "output_type": "stream",
     "text": [
      "Loaded SARIMAX model from D:\\python_projects\\crypto-analytics-platform\\src\\modules\\forecasting\\models\\saved\\sarimax\\sarimax_BTC.pkl\n",
      "SARIMAX Forecast:\n",
      "2025-09-29 01:00:00+00:00    102.259924\n",
      "2025-09-29 02:00:00+00:00    102.247367\n",
      "2025-09-29 03:00:00+00:00    102.241511\n",
      "2025-09-29 04:00:00+00:00    102.238781\n",
      "2025-09-29 05:00:00+00:00    102.237507\n",
      "2025-09-29 06:00:00+00:00    102.236913\n",
      "2025-09-29 07:00:00+00:00    102.236637\n",
      "2025-09-29 08:00:00+00:00    102.236507\n",
      "2025-09-29 09:00:00+00:00    102.236447\n",
      "2025-09-29 10:00:00+00:00    102.236419\n",
      "Freq: h, Name: predicted_mean, dtype: float64\n",
      "2025-10-05 15:00:00+00:00    102.236395\n",
      "2025-10-05 16:00:00+00:00    102.236395\n",
      "2025-10-05 17:00:00+00:00    102.236395\n",
      "2025-10-05 18:00:00+00:00    102.236395\n",
      "2025-10-05 19:00:00+00:00    102.236395\n",
      "2025-10-05 20:00:00+00:00    102.236395\n",
      "2025-10-05 21:00:00+00:00    102.236395\n",
      "2025-10-05 22:00:00+00:00    102.236395\n",
      "2025-10-05 23:00:00+00:00    102.236395\n",
      "2025-10-06 00:00:00+00:00    102.236395\n",
      "Freq: h, Name: predicted_mean, dtype: float64\n"
     ]
    },
    {
     "name": "stderr",
     "output_type": "stream",
     "text": [
      "D:\\python_projects\\crypto-analytics-platform\\src\\modules\\forecasting\\models\\sarimax.py:58: FutureWarning: 'H' is deprecated and will be removed in a future version. Please use 'h' instead of 'H'.\n",
      "  start_date = last_date + pd.to_timedelta(1, unit=freq)\n",
      "D:\\python_projects\\crypto-analytics-platform\\src\\modules\\forecasting\\models\\sarimax.py:59: FutureWarning: 'H' is deprecated and will be removed in a future version, please use 'h' instead.\n",
      "  forecast.index = pd.date_range(\n",
      "C:\\Users\\sarfras\\AppData\\Local\\Temp\\ipykernel_19796\\1565562741.py:29: FutureWarning: 'H' is deprecated and will be removed in a future version, please use 'h' instead.\n",
      "  future_dates = pd.date_range(start=last_date + pd.Timedelta(hours=1), periods=FORECAST_STEPS, freq='H')\n"
     ]
    },
    {
     "data": {
      "image/png": "[encoded data removed]",
      "text/plain": [
       "<Figure size 1200x600 with 1 Axes>"
      ]
     },
     "metadata": {},
     "output_type": "display_data"
    }
   ],
   "source": [
    "from modules.forecasting.models.sarimax import SarimaxModel \n",
    "\n",
    "sarimodel = SarimaxModel(\n",
    "    symbol=SYMBOL,\n",
    "    order=(1, 1, 1), \n",
    "    seasonal_order=(0, 0, 0, 0),\n",
    "    model_dir=str(SARIMAX_BASE_DIR)\n",
    ")\n",
    "\n",
    "sarimodel_path = SARIMAX_BASE_DIR / f\"sarimax_{SYMBOL}.pkl\"\n",
    "if sarimodel_path.exists():\n",
    "    sarimodel.load()\n",
    "    print(f\"Loaded SARIMAX model from {sarimodel_path}\")\n",
    "else:\n",
    "    print(\"No saved model found. Training a new one...\")\n",
    "    sarimodel.train(df_recent, target_col='close')\n",
    "    sarimodel.save()\n",
    "    print(f\"Trained and saved new SARIMAX model to {sarimodel_path}\")\n",
    "\n",
    "last_date = df_recent.index[-1]\n",
    "forecast = sarimodel.forecast(steps=FORECAST_STEPS, last_date=last_date, freq='H')\n",
    "\n",
    "print(\"SARIMAX Forecast:\")\n",
    "print(forecast.head(10))\n",
    "print(forecast.tail(10))\n",
    "\n",
    "plt.figure(figsize=(12, 6))\n",
    "plt.plot(df_recent.index[-100:], df_recent['close'].tail(100), label='Historical')\n",
    "future_dates = pd.date_range(start=last_date + pd.Timedelta(hours=1), periods=FORECAST_STEPS, freq='H')\n",
    "plt.plot(future_dates, forecast.values, label='Forecast', color='green')\n",
    "plt.legend()\n",
    "plt.title(f'SARIMAX Forecast for {SYMBOL}')\n",
    "plt.show()"
   ]
  }
 ],
 "metadata": {
  "kernelspec": {
   "display_name": "crypto",
   "language": "python",
   "name": "python3"
  },
  "language_info": {
   "codemirror_mode": {
    "name": "ipython",
    "version": 3
   },
   "file_extension": ".py",
   "mimetype": "text/x-python",
   "name": "python",
   "nbconvert_exporter": "python",
   "pygments_lexer": "ipython3",
   "version": "3.10.18"
  }
 },
 "nbformat": 4,
 "nbformat_minor": 5
}
